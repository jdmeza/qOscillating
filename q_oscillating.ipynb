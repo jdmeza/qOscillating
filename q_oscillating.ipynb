{
 "cells": [
  {
   "cell_type": "markdown",
   "metadata": {},
   "source": [
    "# q-analogues of Oscillating Tableaux\n",
    "\n",
    "We wish to investigate possible q-statistics for q-analogues of enumerative formulas for oscillating tableaux."
   ]
  },
  {
   "cell_type": "markdown",
   "metadata": {},
   "source": [
    "#### Definition\n",
    "Let $\\lambda, \\mu$ be straight shapes.\tAn *$n$-oscillating tableau* of shape $\\lambda/\\mu$ is a sequence\n",
    "$ \\mu = \\nu^0, \\nu^1, \\nu^2, \\ldots, \\lambda $ of partitions such that for each $i$,\n",
    "\n",
    "- $\\nu^i$ differs from $\\nu^{i-1}$ by a single box.\n",
    "\n",
    "- $\\ell(\\nu^i) \\leq n$.\n",
    "\n",
    "In the literature this is also known as an *$n$-symplectic up-down tableau*. When the length restriction is implicit or not imposed, we will drop the $n$ and simply refer to this as an oscillating tableau or an up-down tableau.\n",
    "\n",
    "Let $\\widetilde{f}_\\lambda^{k}$ denote the number of oscillating tableaux of shape $\\lambda$ in $k$ steps.  By bijecting matchings on $2k$ elements to oscillating tableaux of shape $\\emptyset$, one gets the following enumerative formulas:\n",
    "\n",
    "$$ \\widetilde{f}_\\emptyset^{2k} = (2k-1)!! $$\n",
    "$$ \\sum_{\\lambda} \\left( \\widetilde{f}_\\lambda^{k} \\right)^2 = (2k-1)!! $$\n",
    "\n",
    "Using Berele insertion, Sundaram proves a more general result:\n",
    "$$ \\widetilde{f}_\\lambda^k = \\binom{k}{|\\lambda|}(k-|\\lambda|-1)!! f^\\lambda $$"
   ]
  },
  {
   "cell_type": "markdown",
   "metadata": {},
   "source": [
    "There is a well known q-analogue of $f^\\lambda$ related to the *principal specialization* of Schur functions:\n",
    "\n",
    "$$ [f^\\lambda]_q = q^{n(\\lambda)} \\frac{n!_q}{\\prod_{x \\in \\lambda} h(x)_q} = \\sum_{T \\in SYT(\\lambda)} q^{\\text{maj}(T)} $$\n",
    "$$ s_\\lambda(1, q, q^2, \\ldots) = q^{n(\\lambda)} \\frac{1}{\\prod_{x \\in \\lambda} 1-q^{h(x)}} = \\frac{[f^\\lambda]_q}{(1-q) \\cdots (1-q^n)} =\\frac{\\sum_{T} q^{\\text{maj}(T)}}{(1-q)\\cdots(1-q^n)}$$ \n",
    "\n",
    "where $n(\\lambda) = \\sum \\binom{\\lambda_i'}{2} = \\sum (i-1) \\lambda_i$ is the sum of the entries of the tableau of shape $\\lambda$ in which you fill the first row with 0's, the second row with 1's, and so forth. The major statistic $\\text{maj}(T)$ is given by\n",
    "$$ \\text{maj}(T) = \\sum_{i \\in \\text{Des}(T)} i $$\n",
    "where we say $i$ is a *descent* of $T$ if $i$ occurs in a row below $i+1$ (in French notation). \n",
    "\n",
    "#### Example:"
   ]
  },
  {
   "cell_type": "code",
   "execution_count": 4,
   "metadata": {},
   "outputs": [
    {
     "name": "stdout",
     "output_type": "stream",
     "text": [
      "  5\n",
      "  3  6\n",
      "  1  2  4\n",
      " Descents:  [2, 4]\n"
     ]
    }
   ],
   "source": [
    "Tableaux.options.convention=\"french\"\n",
    "t = StandardTableau([[1,2,4],[3,6],[5]])\n",
    "t.pp()\n",
    "print \"Descents: \", t.standard_descents()"
   ]
  },
  {
   "cell_type": "markdown",
   "metadata": {},
   "source": [
    "Representation theoretically, $ s_\\lambda(1, q, q^2, \\ldots)$ keeps track of the occurences of the irreducible representation $\\chi_\\lambda$ of $S_n$ indexed by $\\lambda$ in the symmetric algebra $S^\\bullet(\\mathbb{C}^n)$. That is, $S_n$ acts on $\\mathbb{C}^n$, and considering this as an algebraic variety, also acts on polynomial functions on $\\mathbb{C}^n$. This algebra of polynomial functions is $S^\\bullet(\\mathbb{C}^n) \\simeq \\mathbb{C}[x_1, \\ldots, x_n]$ after picking a basis. This representation is graded by total degree, as $S_n$ doesn't change the total degree of a monomial in the $x$'s. If you want to know in which degrees, and with what multiplicities, an irrep $\\chi_\\lambda$ appears, then this is given by $s_\\lambda(1, q, q^2, \\ldots)$, where $q$ keeps track of the degrees. For example, we see that $q^{n(\\lambda)}$ is the smallest degree in which $\\chi_\\lambda$ appears, and it occurs once here. The entire Frobenius character of $S^\\bullet(\\mathbb{C}^n)$ is given by \n",
    "\n",
    "$$ F\\chi_{S^\\bullet(\\mathbb{C}^n)} = \\sum_d q^d F\\chi_{S^d(\\mathbb{C}^n)} = h_n\\left[\\frac{X}{1-q}\\right] = h_n(x_1, x_2, \\ldots, x_1 q, x_2 q, \\ldots, x_1 q^2, x_2 q^2, \\ldots) $$"
   ]
  },
  {
   "cell_type": "markdown",
   "metadata": {},
   "source": [
    "In any case, descents for oscillating tableaux were defined by Rubey, Sagan, Westbury in https://pdfs.semanticscholar.org/ec2c/194f00ab693c3e9c027c50e7165b2c8c90a7.pdf\n",
    "\n",
    "We give their definition below. First let's recast the definition of descent for SYT in terms of the sequence of shapes it corresponds to. We view a SYT of shape $\\lambda$ as a sequence of shapes\n",
    "\n",
    "$$ \\emptyset = \\lambda^{(0)} \\subseteq \\lambda^{(1)} \\subseteq \\cdots \\subseteq \\lambda^{(n)} = \\lambda $$\n",
    "\n",
    "Let $w_i$ be the row of the box in $\\lambda^{(i)}/\\lambda^{(i-1)}$, i.e. the row in which $i$ occurs in $T$.\n",
    "Then, $i \\in \\text{Des(T)}$ if $w_i < w_{i+1}$. Another way to say this is that the descents of $T$ are exactly the *ascents* of the word $w = w_1 w_2 \\cdots w_n$.\n",
    "\n",
    "Now, for an oscillating tableau, the sequence of shapes is also allowed to decrease in size. As such, we let $w_i$ be the row of the box that changes from $\\lambda^{(i-1)}$ to $\\lambda^{(i)}$.\n",
    "\n",
    "#### Definition\n",
    "\n",
    "An oscillating tableau $O$ has a descent at position $i$ in any of the following three cases:\n",
    " 1. Steps $i$ and $i + 1$ are both expansions and $w_i < w_{i+1}$.\n",
    " 2. Steps $i$ and $i + 1$ are both deletions and $w_i > w_{i+1}$.\n",
    " 3. Step $i$ is an expansion and step $i + 1$ is a deletion,\n",
    " \n",
    "where we view all Ferrers diagrams in French notation.\n",
    "\n",
    "If we keep track of a deletion at step $i$ with $\\overline{w_i}$ instead of $w_i$, then the descents of $O$ are *ascents* of the word \n",
    "\n",
    "$$ w= a_1 a_2 \\cdots a_n, \\qquad a_i \\in \\{ w_i, \\overline{w_i} \\}$$\n",
    "\n",
    "and we count ascents according to the ordered alphabet\n",
    "$$ 1 < 2 < \\ldots < n < \\overline{n} < \\ldots < \\overline{2} < \\overline{1} $$\n",
    "\n",
    "**Note**: This is the same order used in Kashiwara-Nakashima tableaux, but not the order used in King symplectic tableaux."
   ]
  },
  {
   "cell_type": "markdown",
   "metadata": {},
   "source": [
    "## Code"
   ]
  },
  {
   "cell_type": "code",
   "execution_count": 245,
   "metadata": {},
   "outputs": [
    {
     "name": "stdout",
     "output_type": "stream",
     "text": [
      "\n"
     ]
    }
   ],
   "source": [
    "S.<q, t> = QQ[]\n",
    "from sage.combinat.q_analogues import *\n",
    "\n",
    "def OscillatingTableaux(inner, outer, steps):\n",
    "    ''' Return list of oscillating tableaux from \n",
    "        shape ``inner`` to shape ``outer`` in ``steps`` number of steps.\n",
    "        \n",
    "        Input:\n",
    "            ``inner`` -- Partition or list\n",
    "            ``outer`` -- Partition or list\n",
    "            ``steps`` -- non-negative integer\n",
    "    '''\n",
    "    inner = Partition(inner)\n",
    "    outer = Partition(outer)\n",
    "    if abs(outer.size() - inner.size()) > steps or steps <= 0:\n",
    "        return []\n",
    "    if steps == 1:\n",
    "        if outer in inner.up_list() or outer in inner.down_list():\n",
    "            return [(inner, outer)]\n",
    "        else:\n",
    "            return []\n",
    "    next_parts = inner.up_list() + inner.down_list()\n",
    "    OTs = []\n",
    "    for seq in next_parts:\n",
    "        for ot in OscillatingTableaux(seq, outer, steps-1):\n",
    "            OTs += [(inner,) + ot]\n",
    "    return OTs\n",
    "\n",
    "def descents(ot):\n",
    "    ''' Return list of descents of oscillating tableau ``ot``.\n",
    "    \n",
    "        Input:\n",
    "            ``ot`` -- list of partitions or lists.\n",
    "    '''\n",
    "    des = []\n",
    "    steps = len(ot)\n",
    "    for i in range(1,steps-1):\n",
    "        prev = Partition(ot[i-1])\n",
    "        curr = Partition(ot[i])\n",
    "        nxt = Partition(ot[i+1])\n",
    "        if prev.size() < curr.size() and curr.size() > nxt.size():\n",
    "            des += [i]\n",
    "        elif prev.size() < curr.size() and curr.size() < nxt.size():\n",
    "            row_prev = SkewPartition([curr,prev]).cells()[0][0]\n",
    "            row_curr = SkewPartition([nxt,curr]).cells()[0][0]\n",
    "            if row_prev < row_curr:\n",
    "                des += [i]\n",
    "        elif prev.size() > curr.size() and curr.size() > nxt.size():\n",
    "            row_prev = SkewPartition([prev, curr]).cells()[0][0]\n",
    "            row_curr = SkewPartition([curr, nxt]).cells()[0][0]\n",
    "            if row_prev > row_curr:\n",
    "                des += [i]\n",
    "    return des\n",
    "\n",
    "def maj(ot):\n",
    "    ''' Return maj of oscillating tableau ``ot``.    \n",
    "    '''\n",
    "    return sum(descents(ot))\n",
    "\n",
    "def q_oscillating(inner, outer, steps):\n",
    "    ''' Return q descent generating function of \n",
    "        oscillating tableaux of shape ``outer``/``inner`` in ``steps`` steps.    \n",
    "    '''\n",
    "    gen_fn = 0\n",
    "    for ot in OscillatingTableaux(inner, outer, steps):\n",
    "        gen_fn += q^(maj(ot))\n",
    "    return gen_fn\n",
    "   \n",
    "def q_hook_formula(shape):\n",
    "    ''' Return q-analogue of hook length formula for SYT.\n",
    "    '''\n",
    "    res = 0\n",
    "    for st in StandardTableaux(shape):\n",
    "        res += q^(st.standard_major_index())\n",
    "    return res\n",
    "\n",
    "def q_double_factorial(n):\n",
    "    ''' Return q-analogue of n!!\n",
    "        \n",
    "        The q-analogue is assumed to be the product of the q-analogues of\n",
    "        numbers less than or equal to n, with the same parity as n. \n",
    "        \n",
    "    '''\n",
    "    res = 1\n",
    "    if n % 2 == 0:\n",
    "        start = 0\n",
    "    else:\n",
    "        start = 1\n",
    "    for i in range(start,n+1,2):\n",
    "        res = res*q_int(i)\n",
    "    return res\n",
    "\n",
    "def to_matching(ot):\n",
    "    '''\n",
    "    Return matching in bijection with oscillating tableau ``ot``.\n",
    "    \n",
    "    Input:\n",
    "        ``ot`` -- oscillating tableau (list of lists) of shape emptyset\n",
    "    '''\n",
    "    pass\n",
    "\n",
    "def to_oscillating(m):\n",
    "    '''\n",
    "    Return oscillating tableau of shape emptyset in bijection with matching ``m``.\n",
    "    \n",
    "    Input:\n",
    "        ``m`` -- a list of iterables of 2 elements.\n",
    "    '''\n",
    "    pass\n",
    "\n",
    "def q_crossings(n):\n",
    "    '''\n",
    "    Return q-generating function for number of crossings of matchings on ``n`` elements.\n",
    "    '''\n",
    "    if n % 2 != 0:\n",
    "        return 0\n",
    "    return sum([q^m.number_of_crossings() for m in PerfectMatchings(n)])\n",
    "        \n",
    "\n",
    "def q_nestings(n):\n",
    "    '''\n",
    "    Return q-generating function for number of nestings of matchings on ``n`` elements.\n",
    "    '''\n",
    "    if n % 2 != 0:\n",
    "        return 0\n",
    "    return sum([q^m.number_of_nestings() for m in PerfectMatchings(n)])\n",
    "\n",
    "def qt_crossing_nesting(n):\n",
    "    '''\n",
    "    Return (q,t)-generating function for number of crossings (in q)\n",
    "    and numbers of nestings (in t) of matchings on ``n`` elements.\n",
    "    '''\n",
    "    if n % 2 != 0:\n",
    "        return 0\n",
    "    return sum([q^m.number_of_crossings()*t^m.number_of_nestings() for m in PerfectMatchings(n)])"
   ]
  },
  {
   "cell_type": "markdown",
   "metadata": {},
   "source": [
    "## Testing (run code above first)"
   ]
  },
  {
   "cell_type": "code",
   "execution_count": 254,
   "metadata": {},
   "outputs": [
    {
     "name": "stdout",
     "output_type": "stream",
     "text": [
      "res: \n",
      "----------\n",
      "shape:  [3, 2] \n",
      "-----------\n",
      "steps:  0  --  0\n",
      "steps:  1  --  0\n",
      "steps:  2  --  0\n",
      "steps:  3  --  0\n",
      "steps:  4  --  0\n",
      "steps:  5  --  1\n",
      "steps:  6  --  0\n",
      "steps:  7  --  q\n",
      "steps:  8  --  0\n",
      "----------\n",
      "shape:  [2, 1, 1] \n",
      "-----------\n",
      "steps:  0  --  0\n",
      "steps:  1  --  0\n",
      "steps:  2  --  0\n",
      "steps:  3  --  0\n",
      "steps:  4  --  1\n",
      "steps:  5  --  0\n",
      "steps:  6  --  q\n",
      "steps:  7  --  0\n",
      "steps:  8  --  q^2 * (q^2 - q + 1) * (q^2 + q + 1)\n",
      "----------\n",
      "shape:  [3, 1, 1] \n",
      "-----------\n",
      "steps:  0  --  0\n",
      "steps:  1  --  0\n",
      "steps:  2  --  0\n",
      "steps:  3  --  0\n",
      "steps:  4  --  0\n",
      "steps:  5  --  1\n",
      "steps:  6  --  0\n",
      "steps:  7  --  q\n",
      "steps:  8  --  0\n",
      "----------\n",
      "shape:  [1] \n",
      "-----------\n",
      "steps:  0  --  0\n",
      "steps:  1  --  1\n",
      "steps:  2  --  0\n",
      "steps:  3  --  q\n",
      "steps:  4  --  0\n",
      "steps:  5  --  q^6 + q^4 + q^2\n",
      "steps:  6  --  0\n",
      "steps:  7  --  q^15 + q^13 + q^12 + 2*q^11 + q^10 + 3*q^9 + q^8 + 2*q^7 + q^6 + q^5 + q^3\n",
      "steps:  8  --  0\n",
      "----------\n",
      "shape:  [2, 2, 1] \n",
      "-----------\n",
      "steps:  0  --  0\n",
      "steps:  1  --  0\n",
      "steps:  2  --  0\n",
      "steps:  3  --  0\n",
      "steps:  4  --  0\n",
      "steps:  5  --  1\n",
      "steps:  6  --  0\n",
      "steps:  7  --  q\n",
      "steps:  8  --  0\n",
      "----------\n",
      "shape:  [2] \n",
      "-----------\n",
      "steps:  0  --  0\n",
      "steps:  1  --  0\n",
      "steps:  2  --  1\n",
      "steps:  3  --  0\n",
      "steps:  4  --  q\n",
      "steps:  5  --  0\n",
      "steps:  6  --  q^6 + q^4 + q^2\n",
      "steps:  7  --  0\n",
      "steps:  8  --  q^15 + q^13 + q^12 + 2*q^11 + q^10 + 3*q^9 + q^8 + 2*q^7 + q^6 + q^5 + q^3\n",
      "----------\n",
      "shape:  [3, 1] \n",
      "-----------\n",
      "steps:  0  --  0\n",
      "steps:  1  --  0\n",
      "steps:  2  --  0\n",
      "steps:  3  --  0\n",
      "steps:  4  --  1\n",
      "steps:  5  --  0\n",
      "steps:  6  --  q\n",
      "steps:  7  --  0\n",
      "steps:  8  --  q^2 * (q^2 - q + 1) * (q^2 + q + 1)\n",
      "----------\n",
      "shape:  [3] \n",
      "-----------\n",
      "steps:  0  --  0\n",
      "steps:  1  --  0\n",
      "steps:  2  --  0\n",
      "steps:  3  --  1\n",
      "steps:  4  --  0\n",
      "steps:  5  --  q\n",
      "steps:  6  --  0\n",
      "steps:  7  --  q^6 + q^4 + q^2\n",
      "steps:  8  --  0\n",
      "----------\n",
      "shape:  [1, 1, 1, 1] \n",
      "-----------\n",
      "steps:  0  --  0\n",
      "steps:  1  --  0\n",
      "steps:  2  --  0\n",
      "steps:  3  --  0\n",
      "steps:  4  --  1\n",
      "steps:  5  --  0\n",
      "steps:  6  --  q\n",
      "steps:  7  --  0\n",
      "steps:  8  --  q^2 * (q^2 - q + 1) * (q^2 + q + 1)\n",
      "----------\n",
      "shape:  [2, 1] \n",
      "-----------\n",
      "steps:  0  --  0\n",
      "steps:  1  --  0\n",
      "steps:  2  --  0\n",
      "steps:  3  --  1\n",
      "steps:  4  --  0\n",
      "steps:  5  --  q\n",
      "steps:  6  --  0\n",
      "steps:  7  --  q^2 * (q^2 - q + 1) * (q^2 + q + 1)\n",
      "steps:  8  --  0\n",
      "----------\n",
      "shape:  [4] \n",
      "-----------\n",
      "steps:  0  --  0\n",
      "steps:  1  --  0\n",
      "steps:  2  --  0\n",
      "steps:  3  --  0\n",
      "steps:  4  --  1\n",
      "steps:  5  --  0\n",
      "steps:  6  --  q\n",
      "steps:  7  --  0\n",
      "steps:  8  --  q^6 + q^4 + q^2\n",
      "----------\n",
      "shape:  [1, 1, 1, 1, 1] \n",
      "-----------\n",
      "steps:  0  --  0\n",
      "steps:  1  --  0\n",
      "steps:  2  --  0\n",
      "steps:  3  --  0\n",
      "steps:  4  --  0\n",
      "steps:  5  --  1\n",
      "steps:  6  --  0\n",
      "steps:  7  --  q\n",
      "steps:  8  --  0\n",
      "----------\n",
      "shape:  [5] \n",
      "-----------\n",
      "steps:  0  --  0\n",
      "steps:  1  --  0\n",
      "steps:  2  --  0\n",
      "steps:  3  --  0\n",
      "steps:  4  --  0\n",
      "steps:  5  --  1\n",
      "steps:  6  --  0\n",
      "steps:  7  --  q\n",
      "steps:  8  --  0\n",
      "----------\n",
      "shape:  [] \n",
      "-----------\n",
      "steps:  0  --  0\n",
      "steps:  1  --  0\n",
      "steps:  2  --  q\n",
      "steps:  3  --  0\n",
      "steps:  4  --  q^6 + q^4 + q^2\n",
      "steps:  5  --  0\n",
      "steps:  6  --  q^15 + q^13 + q^12 + 2*q^11 + q^10 + 3*q^9 + q^8 + 2*q^7 + q^6 + q^5 + q^3\n",
      "steps:  7  --  0\n",
      "steps:  8  --  q^28 + q^26 + q^25 + 3*q^24 + 2*q^23 + 5*q^22 + 4*q^21 + 8*q^20 + 6*q^19 + 9*q^18 + 7*q^17 + 11*q^16 + 7*q^15 + 9*q^14 + 6*q^13 + 8*q^12 + 4*q^11 + 5*q^10 + 2*q^9 + 3*q^8 + q^7 + q^6 + q^4\n",
      "----------\n",
      "shape:  [2, 1, 1, 1] \n",
      "-----------\n",
      "steps:  0  --  0\n",
      "steps:  1  --  0\n",
      "steps:  2  --  0\n",
      "steps:  3  --  0\n",
      "steps:  4  --  0\n",
      "steps:  5  --  1\n",
      "steps:  6  --  0\n",
      "steps:  7  --  q\n",
      "steps:  8  --  0\n",
      "----------\n",
      "shape:  [2, 2] \n",
      "-----------\n",
      "steps:  0  --  0\n",
      "steps:  1  --  0\n",
      "steps:  2  --  0\n",
      "steps:  3  --  0\n",
      "steps:  4  --  1\n",
      "steps:  5  --  0\n",
      "steps:  6  --  q\n",
      "steps:  7  --  0\n",
      "steps:  8  --  q^2 * (q^2 - q + 1) * (q^2 + q + 1)\n",
      "----------\n",
      "shape:  [1, 1, 1] \n",
      "-----------\n",
      "steps:  0  --  0\n",
      "steps:  1  --  0\n",
      "steps:  2  --  0\n",
      "steps:  3  --  1\n",
      "steps:  4  --  0\n",
      "steps:  5  --  q\n",
      "steps:  6  --  0\n",
      "steps:  7  --  q^2 * (q^2 - q + 1) * (q^2 + q + 1)\n",
      "steps:  8  --  0\n",
      "----------\n",
      "shape:  [4, 1] \n",
      "-----------\n",
      "steps:  0  --  0\n",
      "steps:  1  --  0\n",
      "steps:  2  --  0\n",
      "steps:  3  --  0\n",
      "steps:  4  --  0\n",
      "steps:  5  --  1\n",
      "steps:  6  --  0\n",
      "steps:  7  --  q\n",
      "steps:  8  --  0\n",
      "----------\n",
      "shape:  [1, 1] \n",
      "-----------\n",
      "steps:  0  --  0\n",
      "steps:  1  --  0\n",
      "steps:  2  --  1\n",
      "steps:  3  --  0\n",
      "steps:  4  --  q\n",
      "steps:  5  --  0\n",
      "steps:  6  --  q^2 * (q^2 - q + 1) * (q^2 + q + 1)\n",
      "steps:  7  --  0\n",
      "steps:  8  --  q^3 * (q^4 + q^3 + q^2 + q + 1) * (q^8 - q^7 + q^6 + q^4 + q^2 - q + 1)\n"
     ]
    }
   ],
   "source": [
    "# collect q-maj generating functions for oscillating tableaux and print them\n",
    "\n",
    "max_size = 5\n",
    "max_steps = 8\n",
    "res = {}\n",
    "for size in range(max_size+1):\n",
    "    for shape in Partitions(size):\n",
    "        res[shape] = {}\n",
    "        for steps in range(max_steps+1):\n",
    "            p = q_oscillating([], shape, steps)/q_hook_formula(shape)\n",
    "            if steps > size:\n",
    "                p = p/q_binomial(steps, size)\n",
    "            if p != 0:\n",
    "                res[shape][steps] = p.factor()\n",
    "            else:\n",
    "                res[shape][steps] = p\n",
    "\n",
    "print \"res: \"\n",
    "for k in res.keys():\n",
    "    print \"----------\\n\", \"shape: \", k, \"\\n-----------\"\n",
    "    for s in res[k]:\n",
    "        print \"steps: \", s, \" -- \", res[k][s]"
   ]
  },
  {
   "cell_type": "markdown",
   "metadata": {},
   "source": [
    "# Feel free to mess around here"
   ]
  },
  {
   "cell_type": "markdown",
   "metadata": {},
   "source": [
    "### NOTE: Factoring may not be the best, because we get negative signs. For example, factoring 1+q^3 gives (1-q+q^2)(1+q)"
   ]
  },
  {
   "cell_type": "code",
   "execution_count": 19,
   "metadata": {},
   "outputs": [
    {
     "data": {
      "text/plain": [
       "q^4 + q^2 + 1"
      ]
     },
     "execution_count": 19,
     "metadata": {},
     "output_type": "execute_result"
    }
   ],
   "source": [
    "(q^2 - q + 1) * (q^2 + q + 1)"
   ]
  },
  {
   "cell_type": "code",
   "execution_count": 22,
   "metadata": {},
   "outputs": [
    {
     "data": {
      "text/plain": [
       "q^8 + q^6 + q^4 + q^2 + 1"
      ]
     },
     "execution_count": 22,
     "metadata": {},
     "output_type": "execute_result"
    }
   ],
   "source": [
    "(q^4 - q^3 + q^2 - q + 1) * (q^4 + q^3 + q^2 + q + 1)"
   ]
  },
  {
   "cell_type": "code",
   "execution_count": 23,
   "metadata": {},
   "outputs": [
    {
     "data": {
      "text/plain": [
       "q^16 + q^13 + 2*q^12 + q^11 + 2*q^10 + 2*q^9 + 3*q^8 + 2*q^7 + 2*q^6 + q^5 + 2*q^4 + q^3 + 1"
      ]
     },
     "execution_count": 23,
     "metadata": {},
     "output_type": "execute_result"
    }
   ],
   "source": [
    "(q^6 + q^5 + q^4 + q^3 + q^2 + q + 1) * (q^10 - q^9 + q^7 + q^6 - q^5 + q^4 + q^3 - q + 1)"
   ]
  },
  {
   "cell_type": "code",
   "execution_count": 116,
   "metadata": {},
   "outputs": [
    {
     "data": {
      "text/plain": [
       "q^9 + q^6 + q^5 + q^4 + q^3 + 1"
      ]
     },
     "execution_count": 116,
     "metadata": {},
     "output_type": "execute_result"
    }
   ],
   "source": [
    "(q^8 - q^7 + q^6 + q^4 + q^2 - q + 1)*(1+q)"
   ]
  },
  {
   "cell_type": "code",
   "execution_count": 120,
   "metadata": {},
   "outputs": [
    {
     "data": {
      "text/plain": [
       "q^12 + 2*q^8 + q^7 + q^6 + q^5 + 2*q^4 + 1"
      ]
     },
     "execution_count": 120,
     "metadata": {},
     "output_type": "execute_result"
    }
   ],
   "source": [
    "(q^10 - q^9 + q^7 + q^6 - q^5 + q^4 + q^3 - q + 1)*(1+q+q^2)"
   ]
  },
  {
   "cell_type": "code",
   "execution_count": 146,
   "metadata": {},
   "outputs": [
    {
     "data": {
      "text/plain": [
       "q^24 + q^22 + q^21 + 3*q^20 + 2*q^19 + 5*q^18 + 4*q^17 + 8*q^16 + 6*q^15 + 9*q^14 + 7*q^13 + 11*q^12 + 7*q^11 + 9*q^10 + 6*q^9 + 8*q^8 + 4*q^7 + 5*q^6 + 2*q^5 + 3*q^4 + q^3 + q^2 + 1"
      ]
     },
     "execution_count": 146,
     "metadata": {},
     "output_type": "execute_result"
    }
   ],
   "source": [
    "res = (q^6 + q^5 + q^4 + q^3 + q^2 + q + 1)*(q^10 - q^9 + q^7 + q^6 - q^5 + q^4 + q^3 - q + 1)\n",
    "res = res*(q^4 - q^3 + q^2 - q + 1) * (q^4 + q^3 + q^2 + q + 1)\n",
    "res"
   ]
  },
  {
   "cell_type": "code",
   "execution_count": 140,
   "metadata": {},
   "outputs": [],
   "source": [
    "# q-catalan numbers\n",
    "C5 = q^20 + q^18 + q^17 + 2*q^16 + 2*q^15 + 3*q^14 + 2*q^13 + 4*q^12 + 3*q^11 + 4*q^10 + 3*q^9 + 4*q^8 + 2*q^7 + 3*q^6 + 2*q^5 + 2*q^4 + q^3 + q^2 + 1\n",
    "C4 = q^12 + q^10 + q^9 + 2*q^8 + q^7 + 2*q^6 + q^5 + 2*q^4 + q^3 + q^2 + 1\n",
    "C3 = q^6 + q^4 + q^3 + q^2 + 1\n",
    "C2 = q^2 + 1\n",
    "C1 = 1"
   ]
  },
  {
   "cell_type": "code",
   "execution_count": 223,
   "metadata": {},
   "outputs": [
    {
     "data": {
      "text/plain": [
       "(1, -q^7 + q^6 - q^5 + q^4 - q^3 + q^2 - q)"
      ]
     },
     "execution_count": 223,
     "metadata": {},
     "output_type": "execute_result"
    }
   ],
   "source": [
    "(q^8 - q^7 + q^6 + q^4 + q^2 - q + 1).quo_rem((1+q^5)*(1+q^3))"
   ]
  },
  {
   "cell_type": "code",
   "execution_count": 157,
   "metadata": {},
   "outputs": [
    {
     "data": {
      "text/plain": [
       "q^10 + q^9 + q^8 + q^7 + 3*q^6 + q^5 + q^4 + q^3 + q^2"
      ]
     },
     "execution_count": 157,
     "metadata": {},
     "output_type": "execute_result"
    }
   ],
   "source": [
    "C3*C3-C4*C1"
   ]
  },
  {
   "cell_type": "code",
   "execution_count": 224,
   "metadata": {},
   "outputs": [
    {
     "data": {
      "text/plain": [
       "(-1) * q * (q^6 - q^5 + q^4 - q^3 + q^2 - q + 1)"
      ]
     },
     "execution_count": 224,
     "metadata": {},
     "output_type": "execute_result"
    }
   ],
   "source": [
    "(-q^7 + q^6 - q^5 + q^4 - q^3 + q^2 - q).factor()"
   ]
  },
  {
   "cell_type": "code",
   "execution_count": 226,
   "metadata": {},
   "outputs": [
    {
     "data": {
      "text/plain": [
       "q^6 - q^5 + q^4 - q^3 + q^2 - q + 1"
      ]
     },
     "execution_count": 226,
     "metadata": {},
     "output_type": "execute_result"
    }
   ],
   "source": [
    "(1+q^7)/(1+q)"
   ]
  },
  {
   "cell_type": "code",
   "execution_count": null,
   "metadata": {},
   "outputs": [],
   "source": []
  }
 ],
 "metadata": {
  "kernelspec": {
   "display_name": "SageMath 8.3",
   "language": "",
   "name": "sagemath"
  },
  "language_info": {
   "codemirror_mode": {
    "name": "ipython",
    "version": 2
   },
   "file_extension": ".py",
   "mimetype": "text/x-python",
   "name": "python",
   "nbconvert_exporter": "python",
   "pygments_lexer": "ipython2",
   "version": "2.7.15"
  }
 },
 "nbformat": 4,
 "nbformat_minor": 2
}
